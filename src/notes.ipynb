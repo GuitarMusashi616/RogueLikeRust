{
 "cells": [
  {
   "cell_type": "code",
   "execution_count": 26,
   "metadata": {},
   "outputs": [],
   "source": [
    "class Node:\n",
    "    def __init__(self, x):\n",
    "        self.value = x\n",
    "        self.next = None\n",
    "\n",
    "    def __repr__(self):\n",
    "        return f\"{self.value}, {self.next}\""
   ]
  },
  {
   "cell_type": "code",
   "execution_count": 5,
   "metadata": {},
   "outputs": [],
   "source": [
    "def recurse(l, k, prev=None):\n",
    "    if not l:\n",
    "        return\n",
    "\n",
    "    if l.value == k:\n",
    "        if prev:\n",
    "            prev.next = l.next\n",
    "        \n",
    "\n",
    "    recurse(l.next, k, l)"
   ]
  },
  {
   "cell_type": "code",
   "execution_count": 6,
   "metadata": {},
   "outputs": [
    {
     "data": {
      "text/plain": [
       "1000"
      ]
     },
     "execution_count": 6,
     "metadata": {},
     "output_type": "execute_result"
    }
   ],
   "source": [
    "l.value"
   ]
  },
  {
   "cell_type": "code",
   "execution_count": 8,
   "metadata": {},
   "outputs": [],
   "source": [
    "l = l.next"
   ]
  },
  {
   "cell_type": "code",
   "execution_count": 10,
   "metadata": {},
   "outputs": [
    {
     "data": {
      "text/plain": [
       "1000"
      ]
     },
     "execution_count": 10,
     "metadata": {},
     "output_type": "execute_result"
    }
   ],
   "source": [
    "l.value"
   ]
  },
  {
   "cell_type": "code",
   "execution_count": 11,
   "metadata": {},
   "outputs": [],
   "source": [
    "l = l.next"
   ]
  },
  {
   "cell_type": "code",
   "execution_count": 12,
   "metadata": {},
   "outputs": [],
   "source": [
    "l"
   ]
  },
  {
   "cell_type": "code",
   "execution_count": 7,
   "metadata": {},
   "outputs": [
    {
     "data": {
      "text/plain": [
       "<__main__.Node at 0x22252a3a288>"
      ]
     },
     "execution_count": 7,
     "metadata": {},
     "output_type": "execute_result"
    }
   ],
   "source": [
    "l.next"
   ]
  },
  {
   "cell_type": "code",
   "execution_count": 18,
   "metadata": {},
   "outputs": [],
   "source": [
    "def remove(l, k, prev=None):\n",
    "    if l.value == k:\n",
    "        if not prev:\n",
    "            l = l.next\n",
    "        else:\n",
    "            prev.next = l.next\n",
    "    return l"
   ]
  },
  {
   "cell_type": "code",
   "execution_count": 20,
   "metadata": {},
   "outputs": [],
   "source": [
    "l = remove(l, k)"
   ]
  },
  {
   "cell_type": "code",
   "execution_count": 24,
   "metadata": {},
   "outputs": [
    {
     "data": {
      "text/plain": [
       "1000"
      ]
     },
     "execution_count": 24,
     "metadata": {},
     "output_type": "execute_result"
    }
   ],
   "source": [
    "l.value"
   ]
  },
  {
   "cell_type": "code",
   "execution_count": 31,
   "metadata": {},
   "outputs": [],
   "source": [
    "def remove(first_node, prev_node, node):\n",
    "    \n",
    "    if not prev_node:\n",
    "        # first\n",
    "        return node.next\n",
    "        \n",
    "    # last\n",
    "    if not node.next:\n",
    "        prev_node.next = None\n",
    "        return first_node\n",
    "        \n",
    "    # otherwise\n",
    "    if prev_node and node.next:\n",
    "        prev_node.next = node.next\n",
    "        return first_node"
   ]
  },
  {
   "cell_type": "code",
   "execution_count": 35,
   "metadata": {},
   "outputs": [],
   "source": [
    "def recurse(first, l, k, prev=None):\n",
    "    print(\"recurse\", first, \"-\", l, \"-\", k, \"-\", prev)\n",
    "    if not l:\n",
    "        return first\n",
    "        \n",
    "    if l.value == k:\n",
    "        first = remove(first, prev, l)\n",
    "    \n",
    "    \n",
    "    return recurse(first, l.next, k, l)"
   ]
  },
  {
   "cell_type": "code",
   "execution_count": 38,
   "metadata": {},
   "outputs": [
    {
     "name": "stdout",
     "output_type": "stream",
     "text": [
      "recurse 1000, 1000, None - 1000, 1000, None - 1000 - None\n",
      "recurse 1000, None - 1000, None - 1000 - 1000, 1000, None\n",
      "recurse 1000, None - None - 1000 - 1000, None\n"
     ]
    },
    {
     "data": {
      "text/plain": [
       "1000, None"
      ]
     },
     "execution_count": 38,
     "metadata": {},
     "output_type": "execute_result"
    }
   ],
   "source": [
    "recurse(l, l, k)"
   ]
  },
  {
   "cell_type": "code",
   "execution_count": 74,
   "metadata": {},
   "outputs": [],
   "source": []
  },
  {
   "cell_type": "code",
   "execution_count": null,
   "metadata": {},
   "outputs": [],
   "source": []
  },
  {
   "cell_type": "code",
   "execution_count": 75,
   "metadata": {},
   "outputs": [],
   "source": [
    "# while loop\n",
    "# check node\n",
    "\n",
    "node1 = Node(1000)\n",
    "node2 = Node(1000)\n",
    "node1.next = node2\n",
    "\n",
    "l = node1\n",
    "k = 1000\n",
    "\n",
    "def solution(l, k, node, prev=None):\n",
    "    if not node:\n",
    "        return l\n",
    "\n",
    "    print(node)\n",
    "    if node.value == k:\n",
    "        if not prev:\n",
    "            # first node case\n",
    "            l = node.next\n",
    "            return solution(l, node.next, prev)\n",
    "        else:\n",
    "            # general case\n",
    "            prev.next = node.next\n",
    "            return solution(l, node.next, prev)\n",
    "    else:\n",
    "        return solution(l, k, node.next, node)\n",
    "\n",
    "solution(l,k,l)"
   ]
  },
  {
   "cell_type": "code",
   "execution_count": 76,
   "metadata": {},
   "outputs": [
    {
     "name": "stdout",
     "output_type": "stream",
     "text": [
      "1000, 1000, None\n"
     ]
    },
    {
     "data": {
      "text/plain": [
       "1000, None"
      ]
     },
     "execution_count": 76,
     "metadata": {},
     "output_type": "execute_result"
    }
   ],
   "source": []
  },
  {
   "cell_type": "code",
   "execution_count": null,
   "metadata": {},
   "outputs": [],
   "source": []
  }
 ],
 "metadata": {
  "interpreter": {
   "hash": "54c16bdfac735258fbd7e280ea5d7b02d5af73c99adb953850adcefa84a197df"
  },
  "kernelspec": {
   "display_name": "Python 3.7.4 ('base')",
   "language": "python",
   "name": "python3"
  },
  "language_info": {
   "codemirror_mode": {
    "name": "ipython",
    "version": 3
   },
   "file_extension": ".py",
   "mimetype": "text/x-python",
   "name": "python",
   "nbconvert_exporter": "python",
   "pygments_lexer": "ipython3",
   "version": "3.7.4"
  },
  "orig_nbformat": 4
 },
 "nbformat": 4,
 "nbformat_minor": 2
}
